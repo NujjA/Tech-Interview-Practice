{
 "cells": [
  {
   "cell_type": "markdown",
   "metadata": {},
   "source": [
    "## Regression, ML Workflow, and Feature Engineering\n",
    "\n",
    "### Box Office Predictions\n",
    "#### Predict the profitability of a film before it’s released.\n",
    "\n",
    "### Objectives \n",
    "#### 1. In general, is the profit of a movie correlated with its user score on IMDb? How about its number of votes? What do these correlations tell you?\n",
    "#### 2. Using the data from 2014 and earlier, can you predict the profit of movies released in 2015 and 2016?\n",
    "#### Tip: You should only use information that would be available BEFORE a movie is released (i.e. no information on user score, number of votes, or gross revenues).\n",
    "#### 3. Let's say that you were able to show movies pre-release to a representative focus group, which accurately anticipates the score of a movie (but not its overall popularity), can you improve your model?"
   ]
  },
  {
   "cell_type": "code",
   "execution_count": 1,
   "metadata": {},
   "outputs": [],
   "source": [
    "# imports\n",
    "import numpy as np\n",
    "import pandas as pd\n",
    "\n",
    "import matplotlib.pyplot as plt\n",
    "%matplotlib inline"
   ]
  },
  {
   "cell_type": "markdown",
   "metadata": {},
   "source": [
    "### Data Exploration"
   ]
  },
  {
   "cell_type": "code",
   "execution_count": 2,
   "metadata": {
    "scrolled": true
   },
   "outputs": [
    {
     "data": {
      "text/html": [
       "<div>\n",
       "<style scoped>\n",
       "    .dataframe tbody tr th:only-of-type {\n",
       "        vertical-align: middle;\n",
       "    }\n",
       "\n",
       "    .dataframe tbody tr th {\n",
       "        vertical-align: top;\n",
       "    }\n",
       "\n",
       "    .dataframe thead th {\n",
       "        text-align: right;\n",
       "    }\n",
       "</style>\n",
       "<table border=\"1\" class=\"dataframe\">\n",
       "  <thead>\n",
       "    <tr style=\"text-align: right;\">\n",
       "      <th></th>\n",
       "      <th>budget</th>\n",
       "      <th>country</th>\n",
       "      <th>director</th>\n",
       "      <th>genre</th>\n",
       "      <th>gross</th>\n",
       "      <th>name</th>\n",
       "      <th>rating</th>\n",
       "      <th>runtime</th>\n",
       "      <th>score</th>\n",
       "      <th>star</th>\n",
       "      <th>studio</th>\n",
       "      <th>votes</th>\n",
       "    </tr>\n",
       "  </thead>\n",
       "  <tbody>\n",
       "    <tr>\n",
       "      <th>0</th>\n",
       "      <td>237000000.0</td>\n",
       "      <td>UK</td>\n",
       "      <td>James Cameron</td>\n",
       "      <td>Action</td>\n",
       "      <td>760507625.0</td>\n",
       "      <td>Avatar (2009)</td>\n",
       "      <td>PG-13</td>\n",
       "      <td>162</td>\n",
       "      <td>7.8</td>\n",
       "      <td>Sam Worthington</td>\n",
       "      <td>Twentieth Century Fox Film Corporation</td>\n",
       "      <td>958400</td>\n",
       "    </tr>\n",
       "    <tr>\n",
       "      <th>1</th>\n",
       "      <td>200000000.0</td>\n",
       "      <td>USA</td>\n",
       "      <td>James Cameron</td>\n",
       "      <td>Drama</td>\n",
       "      <td>658672302.0</td>\n",
       "      <td>Titanic (1997)</td>\n",
       "      <td>PG-13</td>\n",
       "      <td>194</td>\n",
       "      <td>7.8</td>\n",
       "      <td>Leonardo DiCaprio</td>\n",
       "      <td>Twentieth Century Fox Film Corporation</td>\n",
       "      <td>865551</td>\n",
       "    </tr>\n",
       "    <tr>\n",
       "      <th>2</th>\n",
       "      <td>150000000.0</td>\n",
       "      <td>USA</td>\n",
       "      <td>Colin Trevorrow</td>\n",
       "      <td>Action</td>\n",
       "      <td>652270625.0</td>\n",
       "      <td>Jurassic World (2015)</td>\n",
       "      <td>PG-13</td>\n",
       "      <td>124</td>\n",
       "      <td>7.0</td>\n",
       "      <td>Chris Pratt</td>\n",
       "      <td>Universal Pictures</td>\n",
       "      <td>470625</td>\n",
       "    </tr>\n",
       "    <tr>\n",
       "      <th>3</th>\n",
       "      <td>220000000.0</td>\n",
       "      <td>USA</td>\n",
       "      <td>Joss Whedon</td>\n",
       "      <td>Action</td>\n",
       "      <td>623357910.0</td>\n",
       "      <td>The Avengers (2012)</td>\n",
       "      <td>PG-13</td>\n",
       "      <td>143</td>\n",
       "      <td>8.1</td>\n",
       "      <td>Robert Downey Jr.</td>\n",
       "      <td>Marvel Studios</td>\n",
       "      <td>1069292</td>\n",
       "    </tr>\n",
       "    <tr>\n",
       "      <th>4</th>\n",
       "      <td>185000000.0</td>\n",
       "      <td>USA</td>\n",
       "      <td>Christopher Nolan</td>\n",
       "      <td>Action</td>\n",
       "      <td>534858444.0</td>\n",
       "      <td>The Dark Knight (2008)</td>\n",
       "      <td>PG-13</td>\n",
       "      <td>152</td>\n",
       "      <td>9.0</td>\n",
       "      <td>Christian Bale</td>\n",
       "      <td>Warner Bros.</td>\n",
       "      <td>1845853</td>\n",
       "    </tr>\n",
       "  </tbody>\n",
       "</table>\n",
       "</div>"
      ],
      "text/plain": [
       "        budget country           director   genre        gross  \\\n",
       "0  237000000.0      UK      James Cameron  Action  760507625.0   \n",
       "1  200000000.0     USA      James Cameron   Drama  658672302.0   \n",
       "2  150000000.0     USA    Colin Trevorrow  Action  652270625.0   \n",
       "3  220000000.0     USA        Joss Whedon  Action  623357910.0   \n",
       "4  185000000.0     USA  Christopher Nolan  Action  534858444.0   \n",
       "\n",
       "                     name rating  runtime  score               star  \\\n",
       "0           Avatar (2009)  PG-13      162    7.8    Sam Worthington   \n",
       "1          Titanic (1997)  PG-13      194    7.8  Leonardo DiCaprio   \n",
       "2   Jurassic World (2015)  PG-13      124    7.0        Chris Pratt   \n",
       "3     The Avengers (2012)  PG-13      143    8.1  Robert Downey Jr.   \n",
       "4  The Dark Knight (2008)  PG-13      152    9.0     Christian Bale   \n",
       "\n",
       "                                   studio    votes  \n",
       "0  Twentieth Century Fox Film Corporation   958400  \n",
       "1  Twentieth Century Fox Film Corporation   865551  \n",
       "2                      Universal Pictures   470625  \n",
       "3                          Marvel Studios  1069292  \n",
       "4                            Warner Bros.  1845853  "
      ]
     },
     "execution_count": 2,
     "metadata": {},
     "output_type": "execute_result"
    }
   ],
   "source": [
    "data = pd.read_csv(\"box_office_predictions.csv\")\n",
    "\n",
    "# Output first few rows\n",
    "data.head()"
   ]
  },
  {
   "cell_type": "code",
   "execution_count": 3,
   "metadata": {},
   "outputs": [
    {
     "data": {
      "image/png": "[encoded data removed]",
      "text/plain": [
       "<Figure size 576x504 with 6 Axes>"
      ]
     },
     "metadata": {},
     "output_type": "display_data"
    }
   ],
   "source": [
    "# Numeric feature distributions\n",
    "data.hist(figsize=(8,7))\n",
    "plt.show()"
   ]
  },
  {
   "cell_type": "code",
   "execution_count": 4,
   "metadata": {},
   "outputs": [
    {
     "data": {
      "text/html": [
       "<div>\n",
       "<style scoped>\n",
       "    .dataframe tbody tr th:only-of-type {\n",
       "        vertical-align: middle;\n",
       "    }\n",
       "\n",
       "    .dataframe tbody tr th {\n",
       "        vertical-align: top;\n",
       "    }\n",
       "\n",
       "    .dataframe thead th {\n",
       "        text-align: right;\n",
       "    }\n",
       "</style>\n",
       "<table border=\"1\" class=\"dataframe\">\n",
       "  <thead>\n",
       "    <tr style=\"text-align: right;\">\n",
       "      <th></th>\n",
       "      <th>budget</th>\n",
       "      <th>gross</th>\n",
       "      <th>runtime</th>\n",
       "      <th>score</th>\n",
       "      <th>votes</th>\n",
       "    </tr>\n",
       "  </thead>\n",
       "  <tbody>\n",
       "    <tr>\n",
       "      <th>count</th>\n",
       "      <td>6.000000e+03</td>\n",
       "      <td>6.000000e+03</td>\n",
       "      <td>6000.000000</td>\n",
       "      <td>6000.000000</td>\n",
       "      <td>6.000000e+03</td>\n",
       "    </tr>\n",
       "    <tr>\n",
       "      <th>mean</th>\n",
       "      <td>2.469918e+07</td>\n",
       "      <td>3.341635e+07</td>\n",
       "      <td>106.587000</td>\n",
       "      <td>6.386383</td>\n",
       "      <td>7.188537e+04</td>\n",
       "    </tr>\n",
       "    <tr>\n",
       "      <th>std</th>\n",
       "      <td>3.721710e+07</td>\n",
       "      <td>5.735205e+07</td>\n",
       "      <td>18.026885</td>\n",
       "      <td>0.994921</td>\n",
       "      <td>1.308033e+05</td>\n",
       "    </tr>\n",
       "    <tr>\n",
       "      <th>min</th>\n",
       "      <td>0.000000e+00</td>\n",
       "      <td>4.410000e+02</td>\n",
       "      <td>50.000000</td>\n",
       "      <td>1.500000</td>\n",
       "      <td>2.700000e+01</td>\n",
       "    </tr>\n",
       "    <tr>\n",
       "      <th>25%</th>\n",
       "      <td>0.000000e+00</td>\n",
       "      <td>1.527796e+06</td>\n",
       "      <td>95.000000</td>\n",
       "      <td>5.800000</td>\n",
       "      <td>7.791750e+03</td>\n",
       "    </tr>\n",
       "    <tr>\n",
       "      <th>50%</th>\n",
       "      <td>1.100000e+07</td>\n",
       "      <td>1.229897e+07</td>\n",
       "      <td>102.000000</td>\n",
       "      <td>6.500000</td>\n",
       "      <td>2.660150e+04</td>\n",
       "    </tr>\n",
       "    <tr>\n",
       "      <th>75%</th>\n",
       "      <td>3.262500e+07</td>\n",
       "      <td>4.007256e+07</td>\n",
       "      <td>115.000000</td>\n",
       "      <td>7.100000</td>\n",
       "      <td>7.677475e+04</td>\n",
       "    </tr>\n",
       "    <tr>\n",
       "      <th>max</th>\n",
       "      <td>3.000000e+08</td>\n",
       "      <td>7.605076e+08</td>\n",
       "      <td>366.000000</td>\n",
       "      <td>9.300000</td>\n",
       "      <td>1.868308e+06</td>\n",
       "    </tr>\n",
       "  </tbody>\n",
       "</table>\n",
       "</div>"
      ],
      "text/plain": [
       "             budget         gross      runtime        score         votes\n",
       "count  6.000000e+03  6.000000e+03  6000.000000  6000.000000  6.000000e+03\n",
       "mean   2.469918e+07  3.341635e+07   106.587000     6.386383  7.188537e+04\n",
       "std    3.721710e+07  5.735205e+07    18.026885     0.994921  1.308033e+05\n",
       "min    0.000000e+00  4.410000e+02    50.000000     1.500000  2.700000e+01\n",
       "25%    0.000000e+00  1.527796e+06    95.000000     5.800000  7.791750e+03\n",
       "50%    1.100000e+07  1.229897e+07   102.000000     6.500000  2.660150e+04\n",
       "75%    3.262500e+07  4.007256e+07   115.000000     7.100000  7.677475e+04\n",
       "max    3.000000e+08  7.605076e+08   366.000000     9.300000  1.868308e+06"
      ]
     },
     "execution_count": 4,
     "metadata": {},
     "output_type": "execute_result"
    }
   ],
   "source": [
    "# Numeric feature summary statistics\n",
    "data.describe()"
   ]
  },
  {
   "cell_type": "code",
   "execution_count": 5,
   "metadata": {},
   "outputs": [
    {
     "data": {
      "text/html": [
       "<div>\n",
       "<style scoped>\n",
       "    .dataframe tbody tr th:only-of-type {\n",
       "        vertical-align: middle;\n",
       "    }\n",
       "\n",
       "    .dataframe tbody tr th {\n",
       "        vertical-align: top;\n",
       "    }\n",
       "\n",
       "    .dataframe thead th {\n",
       "        text-align: right;\n",
       "    }\n",
       "</style>\n",
       "<table border=\"1\" class=\"dataframe\">\n",
       "  <thead>\n",
       "    <tr style=\"text-align: right;\">\n",
       "      <th></th>\n",
       "      <th>budget</th>\n",
       "      <th>country</th>\n",
       "      <th>director</th>\n",
       "      <th>genre</th>\n",
       "      <th>gross</th>\n",
       "      <th>name</th>\n",
       "      <th>rating</th>\n",
       "      <th>runtime</th>\n",
       "      <th>score</th>\n",
       "      <th>star</th>\n",
       "      <th>studio</th>\n",
       "      <th>votes</th>\n",
       "    </tr>\n",
       "  </thead>\n",
       "  <tbody>\n",
       "    <tr>\n",
       "      <th>56</th>\n",
       "      <td>0.0</td>\n",
       "      <td>UK</td>\n",
       "      <td>David Yates</td>\n",
       "      <td>Adventure</td>\n",
       "      <td>295983305.0</td>\n",
       "      <td>Harry Potter and the Deathly Hallows: Part 1 (...</td>\n",
       "      <td>PG-13</td>\n",
       "      <td>146</td>\n",
       "      <td>7.7</td>\n",
       "      <td>Daniel Radcliffe</td>\n",
       "      <td>Warner Bros.</td>\n",
       "      <td>370003</td>\n",
       "    </tr>\n",
       "    <tr>\n",
       "      <th>207</th>\n",
       "      <td>0.0</td>\n",
       "      <td>USA</td>\n",
       "      <td>Walt Becker</td>\n",
       "      <td>Action</td>\n",
       "      <td>168273550.0</td>\n",
       "      <td>Wild Hogs (2007)</td>\n",
       "      <td>PG-13</td>\n",
       "      <td>100</td>\n",
       "      <td>5.9</td>\n",
       "      <td>Tim Allen</td>\n",
       "      <td>Touchstone Pictures</td>\n",
       "      <td>104657</td>\n",
       "    </tr>\n",
       "    <tr>\n",
       "      <th>431</th>\n",
       "      <td>0.0</td>\n",
       "      <td>USA</td>\n",
       "      <td>John G. Avildsen</td>\n",
       "      <td>Action</td>\n",
       "      <td>115103979.0</td>\n",
       "      <td>The Karate Kid Part II (1986)</td>\n",
       "      <td>PG</td>\n",
       "      <td>113</td>\n",
       "      <td>5.9</td>\n",
       "      <td>Pat Morita</td>\n",
       "      <td>Columbia Pictures Corporation</td>\n",
       "      <td>58596</td>\n",
       "    </tr>\n",
       "    <tr>\n",
       "      <th>553</th>\n",
       "      <td>0.0</td>\n",
       "      <td>USA</td>\n",
       "      <td>Nora Ephron</td>\n",
       "      <td>Comedy</td>\n",
       "      <td>95318203.0</td>\n",
       "      <td>Michael (1996)</td>\n",
       "      <td>PG</td>\n",
       "      <td>105</td>\n",
       "      <td>5.7</td>\n",
       "      <td>John Travolta</td>\n",
       "      <td>Turner Pictures (I)</td>\n",
       "      <td>36553</td>\n",
       "    </tr>\n",
       "    <tr>\n",
       "      <th>592</th>\n",
       "      <td>0.0</td>\n",
       "      <td>USA</td>\n",
       "      <td>Tyler Perry</td>\n",
       "      <td>Comedy</td>\n",
       "      <td>90485233.0</td>\n",
       "      <td>Madea Goes to Jail (2009)</td>\n",
       "      <td>PG-13</td>\n",
       "      <td>103</td>\n",
       "      <td>4.3</td>\n",
       "      <td>Tyler Perry</td>\n",
       "      <td>Tyler Perry Company, The</td>\n",
       "      <td>10095</td>\n",
       "    </tr>\n",
       "  </tbody>\n",
       "</table>\n",
       "</div>"
      ],
      "text/plain": [
       "     budget country          director      genre        gross  \\\n",
       "56      0.0      UK       David Yates  Adventure  295983305.0   \n",
       "207     0.0     USA       Walt Becker     Action  168273550.0   \n",
       "431     0.0     USA  John G. Avildsen     Action  115103979.0   \n",
       "553     0.0     USA       Nora Ephron     Comedy   95318203.0   \n",
       "592     0.0     USA       Tyler Perry     Comedy   90485233.0   \n",
       "\n",
       "                                                  name rating  runtime  score  \\\n",
       "56   Harry Potter and the Deathly Hallows: Part 1 (...  PG-13      146    7.7   \n",
       "207                                   Wild Hogs (2007)  PG-13      100    5.9   \n",
       "431                      The Karate Kid Part II (1986)     PG      113    5.9   \n",
       "553                                     Michael (1996)     PG      105    5.7   \n",
       "592                          Madea Goes to Jail (2009)  PG-13      103    4.3   \n",
       "\n",
       "                 star                         studio   votes  \n",
       "56   Daniel Radcliffe                   Warner Bros.  370003  \n",
       "207         Tim Allen            Touchstone Pictures  104657  \n",
       "431        Pat Morita  Columbia Pictures Corporation   58596  \n",
       "553     John Travolta            Turner Pictures (I)   36553  \n",
       "592       Tyler Perry       Tyler Perry Company, The   10095  "
      ]
     },
     "execution_count": 5,
     "metadata": {},
     "output_type": "execute_result"
    }
   ],
   "source": [
    "# Min budget is 0, so look at some entries with missing budget data (0 budget)\n",
    "data[data.budget == 0].head()"
   ]
  },
  {
   "cell_type": "code",
   "execution_count": 6,
   "metadata": {},
   "outputs": [],
   "source": [
    "# Remove films with \"0\" budget\n",
    "data = data.loc[data.budget > 0,:]"
   ]
  },
  {
   "cell_type": "code",
   "execution_count": 7,
   "metadata": {},
   "outputs": [
    {
     "data": {
      "text/html": [
       "<div>\n",
       "<style scoped>\n",
       "    .dataframe tbody tr th:only-of-type {\n",
       "        vertical-align: middle;\n",
       "    }\n",
       "\n",
       "    .dataframe tbody tr th {\n",
       "        vertical-align: top;\n",
       "    }\n",
       "\n",
       "    .dataframe thead th {\n",
       "        text-align: right;\n",
       "    }\n",
       "</style>\n",
       "<table border=\"1\" class=\"dataframe\">\n",
       "  <thead>\n",
       "    <tr style=\"text-align: right;\">\n",
       "      <th></th>\n",
       "      <th>country</th>\n",
       "      <th>director</th>\n",
       "      <th>genre</th>\n",
       "      <th>name</th>\n",
       "      <th>rating</th>\n",
       "      <th>star</th>\n",
       "      <th>studio</th>\n",
       "    </tr>\n",
       "  </thead>\n",
       "  <tbody>\n",
       "    <tr>\n",
       "      <th>count</th>\n",
       "      <td>4089</td>\n",
       "      <td>4089</td>\n",
       "      <td>4089</td>\n",
       "      <td>4089</td>\n",
       "      <td>4089</td>\n",
       "      <td>4089</td>\n",
       "      <td>4089</td>\n",
       "    </tr>\n",
       "    <tr>\n",
       "      <th>unique</th>\n",
       "      <td>42</td>\n",
       "      <td>1757</td>\n",
       "      <td>16</td>\n",
       "      <td>4089</td>\n",
       "      <td>8</td>\n",
       "      <td>1501</td>\n",
       "      <td>1232</td>\n",
       "    </tr>\n",
       "    <tr>\n",
       "      <th>top</th>\n",
       "      <td>USA</td>\n",
       "      <td>Woody Allen</td>\n",
       "      <td>Comedy</td>\n",
       "      <td>Toy Story 2 (1999)</td>\n",
       "      <td>R</td>\n",
       "      <td>Nicolas Cage</td>\n",
       "      <td>Universal Pictures</td>\n",
       "    </tr>\n",
       "    <tr>\n",
       "      <th>freq</th>\n",
       "      <td>3275</td>\n",
       "      <td>26</td>\n",
       "      <td>1136</td>\n",
       "      <td>1</td>\n",
       "      <td>2001</td>\n",
       "      <td>36</td>\n",
       "      <td>235</td>\n",
       "    </tr>\n",
       "  </tbody>\n",
       "</table>\n",
       "</div>"
      ],
      "text/plain": [
       "       country     director   genre                name rating          star  \\\n",
       "count     4089         4089    4089                4089   4089          4089   \n",
       "unique      42         1757      16                4089      8          1501   \n",
       "top        USA  Woody Allen  Comedy  Toy Story 2 (1999)      R  Nicolas Cage   \n",
       "freq      3275           26    1136                   1   2001            36   \n",
       "\n",
       "                    studio  \n",
       "count                 4089  \n",
       "unique                1232  \n",
       "top     Universal Pictures  \n",
       "freq                   235  "
      ]
     },
     "execution_count": 7,
     "metadata": {},
     "output_type": "execute_result"
    }
   ],
   "source": [
    "# Categorical feature summary statistics\n",
    "data.describe(include=['object'])"
   ]
  },
  {
   "cell_type": "code",
   "execution_count": 8,
   "metadata": {},
   "outputs": [],
   "source": [
    "# The star, director, and studio information might be too sparse. Unique too close to count, there are probably ways to\n",
    "# combine this data to make it more useful. For name, if we extract \n",
    "# the year from the name, that info could be useful"
   ]
  },
  {
   "cell_type": "markdown",
   "metadata": {},
   "source": [
    "### Feature Engineering"
   ]
  },
  {
   "cell_type": "code",
   "execution_count": 9,
   "metadata": {},
   "outputs": [],
   "source": [
    "# The target variable is profit, which must be found using the gross and budget data\n",
    "data['profit'] = data['gross'] - data['budget']"
   ]
  },
  {
   "cell_type": "code",
   "execution_count": 10,
   "metadata": {},
   "outputs": [],
   "source": [
    "# Combine sparse classes so they have useful information\n",
    "\n",
    "# Number of films from each studio\n",
    "studio_counts = data.studio.value_counts()\n",
    "\n",
    "# Tiers for sparser studios\n",
    "one_timers = studio_counts[studio_counts <= 1].index\n",
    "three_timers = studio_counts[(studio_counts > 1) & (studio_counts <= 3)].index\n",
    "five_timers = studio_counts[(studio_counts > 3) & (studio_counts <= 5)].index\n",
    "ten_timers = studio_counts[(studio_counts > 5) & (studio_counts <= 10)].index\n",
    "\n",
    "# Combine sparse studios\n",
    "data['studio'].replace(one_timers, 'One Timer', inplace=True)\n",
    "data['studio'].replace(three_timers, 'Three Timer', inplace=True)\n",
    "data['studio'].replace(five_timers, 'Five Timer', inplace=True)\n",
    "data['studio'].replace(ten_timers, 'Ten Timer', inplace=True)"
   ]
  },
  {
   "cell_type": "code",
   "execution_count": 11,
   "metadata": {},
   "outputs": [],
   "source": [
    "# Star\n",
    "\n",
    "star_counts = data.star.value_counts()\n",
    "\n",
    "# Tiers\n",
    "one_time_star = star_counts[star_counts <= 1].index\n",
    "three_time_star = star_counts[(star_counts > 1) & (star_counts <= 3)].index\n",
    "five_time_star = star_counts[(star_counts > 3) & (star_counts <= 5)].index\n",
    "ten_time_star = star_counts[(star_counts > 5) & (star_counts <= 10)].index\n",
    "\n",
    "# Combine sparse stars\n",
    "data['star'].replace(one_time_star, 'One Timer', inplace=True)\n",
    "data['star'].replace(three_time_star, 'Three Timer', inplace=True)\n",
    "data['star'].replace(five_time_star, 'Five Timer', inplace=True)\n",
    "data['star'].replace(ten_time_star, 'Ten Timer', inplace=True)\n"
   ]
  },
  {
   "cell_type": "code",
   "execution_count": 12,
   "metadata": {},
   "outputs": [],
   "source": [
    "# Director\n",
    "dir_counts = data.director.value_counts()\n",
    "\n",
    "# Tiers\n",
    "one_time_dir = dir_counts[dir_counts <= 1].index\n",
    "three_time_dir = dir_counts[(dir_counts > 1) & (dir_counts <= 3)].index\n",
    "five_time_dir = dir_counts[(dir_counts > 3) & (dir_counts <= 5)].index\n",
    "ten_time_dir = dir_counts[(dir_counts > 5) & (dir_counts <= 10)].index\n",
    "\n",
    "# Combine sparse stars\n",
    "data['director'].replace(one_time_dir, 'One Timer', inplace=True)\n",
    "data['director'].replace(three_time_dir, 'Three Timer', inplace=True)\n",
    "data['director'].replace(five_time_dir, 'Five Timer', inplace=True)\n",
    "data['director'].replace(ten_time_dir, 'Ten Timer', inplace=True)"
   ]
  },
  {
   "cell_type": "code",
   "execution_count": 13,
   "metadata": {},
   "outputs": [
    {
     "data": {
      "text/plain": [
       "USA        3275\n",
       "UK          323\n",
       "Other       243\n",
       "France       98\n",
       "Germany      81\n",
       "Canada       69\n",
       "Name: country, dtype: int64"
      ]
     },
     "execution_count": 13,
     "metadata": {},
     "output_type": "execute_result"
    }
   ],
   "source": [
    "# For country, group all countries with fewer than 50 films into a single 'Other' class.\n",
    "\n",
    "# Number of films from each country\n",
    "country_counts = data.country.value_counts()\n",
    "\n",
    "# Combine countries with fewer than 50 films\n",
    "other_countries = country_counts[country_counts < 40].index\n",
    "data['country'].replace(other_countries, 'Other', inplace=True)\n",
    "\n",
    "# New class frequencies\n",
    "data.country.value_counts()"
   ]
  },
  {
   "cell_type": "code",
   "execution_count": 14,
   "metadata": {},
   "outputs": [
    {
     "data": {
      "text/plain": [
       "Comedy       1136\n",
       "Action        972\n",
       "Drama         719\n",
       "Crime         315\n",
       "Adventure     253\n",
       "Animation     205\n",
       "Biography     203\n",
       "Horror        201\n",
       "Other          85\n",
       "Name: genre, dtype: int64"
      ]
     },
     "execution_count": 14,
     "metadata": {},
     "output_type": "execute_result"
    }
   ],
   "source": [
    "# Number of films in each genre\n",
    "genre_counts = data.genre.value_counts()\n",
    "\n",
    "# Combine genres with fewer than 50 films\n",
    "other_genres = genre_counts[genre_counts < 50].index\n",
    "data['genre'].replace(other_genres, 'Other', inplace=True)\n",
    "\n",
    "# New genre frequencies\n",
    "data.genre.value_counts()"
   ]
  },
  {
   "cell_type": "code",
   "execution_count": 15,
   "metadata": {},
   "outputs": [
    {
     "data": {
      "text/plain": [
       "R                2001\n",
       "PG-13            1372\n",
       "PG                562\n",
       "G                  90\n",
       "NOT RATED          36\n",
       "UNRATED            15\n",
       "NC-17               9\n",
       "Not specified       4\n",
       "Name: rating, dtype: int64"
      ]
     },
     "execution_count": 15,
     "metadata": {},
     "output_type": "execute_result"
    }
   ],
   "source": [
    "data.rating.value_counts()"
   ]
  },
  {
   "cell_type": "code",
   "execution_count": 16,
   "metadata": {},
   "outputs": [],
   "source": [
    "# Combine no ratings\n",
    "data['rating'].replace(['NOT RATED', 'UNRATED', 'Not specified'], 'NR', inplace=True)"
   ]
  },
  {
   "cell_type": "code",
   "execution_count": 17,
   "metadata": {},
   "outputs": [
    {
     "name": "stdout",
     "output_type": "stream",
     "text": [
      "17\n"
     ]
    }
   ],
   "source": [
    "# create an age feature for the age of the film\n",
    "\n",
    "def extract_age(s, today=2014):\n",
    "    ''' Set \"today\" to 2014 to imitate an analysis performed in 2014 to predict films in 2015 and 2016. '''\n",
    "    return today - int( s[-5:-1] )\n",
    "\n",
    "# Example\n",
    "print(extract_age('Titanic (1997)'))\n",
    "\n",
    "# Create \"age\" feature\n",
    "data['age'] = data.name.apply(extract_age)"
   ]
  },
  {
   "cell_type": "code",
   "execution_count": 18,
   "metadata": {},
   "outputs": [
    {
     "data": {
      "text/html": [
       "<div>\n",
       "<style scoped>\n",
       "    .dataframe tbody tr th:only-of-type {\n",
       "        vertical-align: middle;\n",
       "    }\n",
       "\n",
       "    .dataframe tbody tr th {\n",
       "        vertical-align: top;\n",
       "    }\n",
       "\n",
       "    .dataframe thead th {\n",
       "        text-align: right;\n",
       "    }\n",
       "</style>\n",
       "<table border=\"1\" class=\"dataframe\">\n",
       "  <thead>\n",
       "    <tr style=\"text-align: right;\">\n",
       "      <th></th>\n",
       "      <th>budget</th>\n",
       "      <th>country</th>\n",
       "      <th>director</th>\n",
       "      <th>genre</th>\n",
       "      <th>gross</th>\n",
       "      <th>name</th>\n",
       "      <th>rating</th>\n",
       "      <th>runtime</th>\n",
       "      <th>score</th>\n",
       "      <th>star</th>\n",
       "      <th>studio</th>\n",
       "      <th>votes</th>\n",
       "      <th>profit</th>\n",
       "      <th>age</th>\n",
       "    </tr>\n",
       "  </thead>\n",
       "  <tbody>\n",
       "    <tr>\n",
       "      <th>0</th>\n",
       "      <td>237000000.0</td>\n",
       "      <td>UK</td>\n",
       "      <td>Five Timer</td>\n",
       "      <td>Action</td>\n",
       "      <td>760507625.0</td>\n",
       "      <td>Avatar (2009)</td>\n",
       "      <td>PG-13</td>\n",
       "      <td>162</td>\n",
       "      <td>7.8</td>\n",
       "      <td>Three Timer</td>\n",
       "      <td>Twentieth Century Fox Film Corporation</td>\n",
       "      <td>958400</td>\n",
       "      <td>523507625.0</td>\n",
       "      <td>5</td>\n",
       "    </tr>\n",
       "    <tr>\n",
       "      <th>1</th>\n",
       "      <td>200000000.0</td>\n",
       "      <td>USA</td>\n",
       "      <td>Five Timer</td>\n",
       "      <td>Drama</td>\n",
       "      <td>658672302.0</td>\n",
       "      <td>Titanic (1997)</td>\n",
       "      <td>PG-13</td>\n",
       "      <td>194</td>\n",
       "      <td>7.8</td>\n",
       "      <td>Leonardo DiCaprio</td>\n",
       "      <td>Twentieth Century Fox Film Corporation</td>\n",
       "      <td>865551</td>\n",
       "      <td>458672302.0</td>\n",
       "      <td>17</td>\n",
       "    </tr>\n",
       "    <tr>\n",
       "      <th>2</th>\n",
       "      <td>150000000.0</td>\n",
       "      <td>USA</td>\n",
       "      <td>Three Timer</td>\n",
       "      <td>Action</td>\n",
       "      <td>652270625.0</td>\n",
       "      <td>Jurassic World (2015)</td>\n",
       "      <td>PG-13</td>\n",
       "      <td>124</td>\n",
       "      <td>7.0</td>\n",
       "      <td>Three Timer</td>\n",
       "      <td>Universal Pictures</td>\n",
       "      <td>470625</td>\n",
       "      <td>502270625.0</td>\n",
       "      <td>-1</td>\n",
       "    </tr>\n",
       "    <tr>\n",
       "      <th>3</th>\n",
       "      <td>220000000.0</td>\n",
       "      <td>USA</td>\n",
       "      <td>Three Timer</td>\n",
       "      <td>Action</td>\n",
       "      <td>623357910.0</td>\n",
       "      <td>The Avengers (2012)</td>\n",
       "      <td>PG-13</td>\n",
       "      <td>143</td>\n",
       "      <td>8.1</td>\n",
       "      <td>Robert Downey Jr.</td>\n",
       "      <td>Ten Timer</td>\n",
       "      <td>1069292</td>\n",
       "      <td>403357910.0</td>\n",
       "      <td>2</td>\n",
       "    </tr>\n",
       "    <tr>\n",
       "      <th>4</th>\n",
       "      <td>185000000.0</td>\n",
       "      <td>USA</td>\n",
       "      <td>Ten Timer</td>\n",
       "      <td>Action</td>\n",
       "      <td>534858444.0</td>\n",
       "      <td>The Dark Knight (2008)</td>\n",
       "      <td>PG-13</td>\n",
       "      <td>152</td>\n",
       "      <td>9.0</td>\n",
       "      <td>Christian Bale</td>\n",
       "      <td>Warner Bros.</td>\n",
       "      <td>1845853</td>\n",
       "      <td>349858444.0</td>\n",
       "      <td>6</td>\n",
       "    </tr>\n",
       "  </tbody>\n",
       "</table>\n",
       "</div>"
      ],
      "text/plain": [
       "        budget country     director   genre        gross  \\\n",
       "0  237000000.0      UK   Five Timer  Action  760507625.0   \n",
       "1  200000000.0     USA   Five Timer   Drama  658672302.0   \n",
       "2  150000000.0     USA  Three Timer  Action  652270625.0   \n",
       "3  220000000.0     USA  Three Timer  Action  623357910.0   \n",
       "4  185000000.0     USA    Ten Timer  Action  534858444.0   \n",
       "\n",
       "                     name rating  runtime  score               star  \\\n",
       "0           Avatar (2009)  PG-13      162    7.8        Three Timer   \n",
       "1          Titanic (1997)  PG-13      194    7.8  Leonardo DiCaprio   \n",
       "2   Jurassic World (2015)  PG-13      124    7.0        Three Timer   \n",
       "3     The Avengers (2012)  PG-13      143    8.1  Robert Downey Jr.   \n",
       "4  The Dark Knight (2008)  PG-13      152    9.0     Christian Bale   \n",
       "\n",
       "                                   studio    votes       profit  age  \n",
       "0  Twentieth Century Fox Film Corporation   958400  523507625.0    5  \n",
       "1  Twentieth Century Fox Film Corporation   865551  458672302.0   17  \n",
       "2                      Universal Pictures   470625  502270625.0   -1  \n",
       "3                               Ten Timer  1069292  403357910.0    2  \n",
       "4                            Warner Bros.  1845853  349858444.0    6  "
      ]
     },
     "execution_count": 18,
     "metadata": {},
     "output_type": "execute_result"
    }
   ],
   "source": [
    "data.head()"
   ]
  },
  {
   "cell_type": "markdown",
   "metadata": {},
   "source": [
    "### Correlations"
   ]
  },
  {
   "cell_type": "code",
   "execution_count": 19,
   "metadata": {},
   "outputs": [
    {
     "data": {
      "text/html": [
       "<div>\n",
       "<style scoped>\n",
       "    .dataframe tbody tr th:only-of-type {\n",
       "        vertical-align: middle;\n",
       "    }\n",
       "\n",
       "    .dataframe tbody tr th {\n",
       "        vertical-align: top;\n",
       "    }\n",
       "\n",
       "    .dataframe thead th {\n",
       "        text-align: right;\n",
       "    }\n",
       "</style>\n",
       "<table border=\"1\" class=\"dataframe\">\n",
       "  <thead>\n",
       "    <tr style=\"text-align: right;\">\n",
       "      <th></th>\n",
       "      <th>score</th>\n",
       "      <th>votes</th>\n",
       "      <th>profit</th>\n",
       "      <th>budget</th>\n",
       "    </tr>\n",
       "  </thead>\n",
       "  <tbody>\n",
       "    <tr>\n",
       "      <th>score</th>\n",
       "      <td>1.000000</td>\n",
       "      <td>0.469748</td>\n",
       "      <td>0.249742</td>\n",
       "      <td>0.067490</td>\n",
       "    </tr>\n",
       "    <tr>\n",
       "      <th>votes</th>\n",
       "      <td>0.469748</td>\n",
       "      <td>1.000000</td>\n",
       "      <td>0.500129</td>\n",
       "      <td>0.452685</td>\n",
       "    </tr>\n",
       "    <tr>\n",
       "      <th>profit</th>\n",
       "      <td>0.249742</td>\n",
       "      <td>0.500129</td>\n",
       "      <td>1.000000</td>\n",
       "      <td>0.094817</td>\n",
       "    </tr>\n",
       "    <tr>\n",
       "      <th>budget</th>\n",
       "      <td>0.067490</td>\n",
       "      <td>0.452685</td>\n",
       "      <td>0.094817</td>\n",
       "      <td>1.000000</td>\n",
       "    </tr>\n",
       "  </tbody>\n",
       "</table>\n",
       "</div>"
      ],
      "text/plain": [
       "           score     votes    profit    budget\n",
       "score   1.000000  0.469748  0.249742  0.067490\n",
       "votes   0.469748  1.000000  0.500129  0.452685\n",
       "profit  0.249742  0.500129  1.000000  0.094817\n",
       "budget  0.067490  0.452685  0.094817  1.000000"
      ]
     },
     "execution_count": 19,
     "metadata": {},
     "output_type": "execute_result"
    }
   ],
   "source": [
    "# Correlations\n",
    "data[['score', 'votes', 'profit', 'budget']].corr()"
   ]
  },
  {
   "cell_type": "markdown",
   "metadata": {},
   "source": [
    "### Machine Learning\n",
    "#### Predict 2015 and 2016 Data"
   ]
  },
  {
   "cell_type": "code",
   "execution_count": 23,
   "metadata": {},
   "outputs": [],
   "source": [
    "# imports\n",
    "from sklearn.ensemble import RandomForestRegressor\n",
    "from sklearn.metrics import r2_score\n",
    "\n",
    "# drop name because it acts as an index\n",
    "# drop gross, votes, score because you wouldn't know them at prediction time\n",
    "\n",
    "abt = pd.get_dummies(data.drop(['name', 'gross', 'votes', 'score'], axis = 1))"
   ]
  },
  {
   "cell_type": "code",
   "execution_count": 27,
   "metadata": {},
   "outputs": [],
   "source": [
    "# train is 2014 and earlier, test is 2015 and 2016\n",
    "train = abt[abt.age >= 0]\n",
    "test = abt[abt.age < 0]\n",
    "\n",
    "y_train = train.profit\n",
    "X_train = train.drop(['profit'], axis=1)\n",
    "\n",
    "y_test = test.profit\n",
    "X_test = test.drop(['profit'], axis=1)\n"
   ]
  },
  {
   "cell_type": "code",
   "execution_count": 31,
   "metadata": {},
   "outputs": [],
   "source": [
    "# Train random forest\n",
    "\n",
    "rf = RandomForestRegressor()\n",
    "rf.fit(X_train, y_train)\n",
    "pred = rf.predict(X_test)"
   ]
  },
  {
   "cell_type": "code",
   "execution_count": 32,
   "metadata": {},
   "outputs": [
    {
     "name": "stderr",
     "output_type": "stream",
     "text": [
      "C:\\Users\\Najla\\Anaconda3\\envs\\deeplearning\\lib\\site-packages\\matplotlib\\axes\\_axes.py:6448: UserWarning: The 'normed' kwarg is deprecated, and has been replaced by the 'density' kwarg.\n",
      "  warnings.warn(\"The 'normed' kwarg is deprecated, and has been \"\n"
     ]
    },
    {
     "data": {
      "image/png": "[encoded data removed]",
      "text/plain": [
       "<Figure size 432x432 with 3 Axes>"
      ]
     },
     "metadata": {},
     "output_type": "display_data"
    }
   ],
   "source": [
    "import seaborn as sns\n",
    "sns.jointplot(y_test, pred, kind='reg')\n",
    "plt.xlabel('Actual Profit')\n",
    "plt.ylabel('Predicted Profit')\n",
    "plt.show()"
   ]
  },
  {
   "cell_type": "code",
   "execution_count": 33,
   "metadata": {},
   "outputs": [
    {
     "data": {
      "text/plain": [
       "-0.00795636789533627"
      ]
     },
     "execution_count": 33,
     "metadata": {},
     "output_type": "execute_result"
    }
   ],
   "source": [
    "# R^2\n",
    "r2_score(y_test, pred)"
   ]
  },
  {
   "cell_type": "code",
   "execution_count": 34,
   "metadata": {},
   "outputs": [],
   "source": [
    "# Helper function for plotting feature importances\n",
    "def plot_feature_importances(columns, feature_importances, show_top_n=10):\n",
    "    feats = dict( zip(columns, feature_importances) )\n",
    "    imp = pd.DataFrame.from_dict(feats, orient='index').rename(columns={0: 'Gini-importance'})\n",
    "    imp.sort_values(by='Gini-importance').tail(show_top_n).plot(kind='barh', figsize=(8,8))\n",
    "    plt.show()"
   ]
  },
  {
   "cell_type": "code",
   "execution_count": 35,
   "metadata": {},
   "outputs": [
    {
     "data": {
      "image/png": "[encoded data removed]",
      "text/plain": [
       "<Figure size 576x576 with 1 Axes>"
      ]
     },
     "metadata": {},
     "output_type": "display_data"
    }
   ],
   "source": [
    "plot_feature_importances(X_train.columns, rf.feature_importances_)"
   ]
  },
  {
   "cell_type": "markdown",
   "metadata": {},
   "source": [
    "## Machine Learning w/ Pre-Screen\n",
    "#### Create a new analytical base table for the scenario where we're able to collect an accurate score input based on film pre-screenings."
   ]
  },
  {
   "cell_type": "code",
   "execution_count": 38,
   "metadata": {},
   "outputs": [],
   "source": [
    "# Create new analytical base table (ABT)\n",
    "abt_ps = pd.get_dummies ( data.drop(['name', 'gross', 'votes'], axis=1) )"
   ]
  },
  {
   "cell_type": "code",
   "execution_count": 39,
   "metadata": {},
   "outputs": [],
   "source": [
    "train = abt_ps[abt_ps.age >= 0]\n",
    "test = abt_ps[abt_ps.age <= 0]\n",
    "\n",
    "y_train = train.profit\n",
    "X_train = train.drop(['profit'], axis=1)\n",
    "\n",
    "y_test = test.profit\n",
    "X_test = test.drop(['profit'], axis=1)"
   ]
  },
  {
   "cell_type": "code",
   "execution_count": 40,
   "metadata": {},
   "outputs": [],
   "source": [
    "# Train a basic random forest model\n",
    "rf = RandomForestRegressor(random_state=1234)\n",
    "rf.fit(X_train, y_train)\n",
    "\n",
    "# Make prediction on test set\n",
    "pred = rf.predict(X_test)"
   ]
  },
  {
   "cell_type": "code",
   "execution_count": 41,
   "metadata": {},
   "outputs": [
    {
     "name": "stderr",
     "output_type": "stream",
     "text": [
      "C:\\Users\\Najla\\Anaconda3\\envs\\deeplearning\\lib\\site-packages\\matplotlib\\axes\\_axes.py:6448: UserWarning: The 'normed' kwarg is deprecated, and has been replaced by the 'density' kwarg.\n",
      "  warnings.warn(\"The 'normed' kwarg is deprecated, and has been \"\n"
     ]
    },
    {
     "data": {
      "image/png": "[encoded data removed]",
      "text/plain": [
       "<Figure size 432x432 with 3 Axes>"
      ]
     },
     "metadata": {},
     "output_type": "display_data"
    }
   ],
   "source": [
    "# new model performance \n",
    "\n",
    "sns.jointplot(y_test, pred, kind='reg')\n",
    "plt.xlabel('Actual Profit')\n",
    "plt.ylabel('Predicted Profit')\n",
    "plt.show()"
   ]
  },
  {
   "cell_type": "code",
   "execution_count": 42,
   "metadata": {},
   "outputs": [
    {
     "data": {
      "text/plain": [
       "0.34504043080338764"
      ]
     },
     "execution_count": 42,
     "metadata": {},
     "output_type": "execute_result"
    }
   ],
   "source": [
    "r2_score(y_test, pred)"
   ]
  },
  {
   "cell_type": "code",
   "execution_count": 43,
   "metadata": {},
   "outputs": [
    {
     "data": {
      "image/png": "[encoded data removed]",
      "text/plain": [
       "<Figure size 576x576 with 1 Axes>"
      ]
     },
     "metadata": {},
     "output_type": "display_data"
    }
   ],
   "source": [
    "plot_feature_importances(X_train.columns, rf.feature_importances_)"
   ]
  },
  {
   "cell_type": "code",
   "execution_count": null,
   "metadata": {},
   "outputs": [],
   "source": []
  }
 ],
 "metadata": {
  "kernelspec": {
   "display_name": "Python 3",
   "language": "python",
   "name": "python3"
  },
  "language_info": {
   "codemirror_mode": {
    "name": "ipython",
    "version": 3
   },
   "file_extension": ".py",
   "mimetype": "text/x-python",
   "name": "python",
   "nbconvert_exporter": "python",
   "pygments_lexer": "ipython3",
   "version": "3.6.4"
  }
 },
 "nbformat": 4,
 "nbformat_minor": 2
}
