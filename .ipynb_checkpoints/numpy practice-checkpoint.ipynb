{
 "cells": [
  {
   "cell_type": "code",
   "execution_count": 2,
   "metadata": {},
   "outputs": [
    {
     "name": "stdout",
     "output_type": "stream",
     "text": [
      "[1, 2, 3, 1, 2, 3]\n",
      "[2 4 6]\n"
     ]
    }
   ],
   "source": [
    "# Lists VS array\n",
    "import numpy as np\n",
    "\n",
    "L1 = [1, 2, 3]\n",
    "A1 = np.array([1, 2, 3])\n",
    "\n",
    "print(L1 + L1) # python lists added together concat two lists\n",
    "print(A1 + A1) # numpy arrays added together do vector addition (elementwise addition)"
   ]
  },
  {
   "cell_type": "code",
   "execution_count": 3,
   "metadata": {},
   "outputs": [
    {
     "name": "stdout",
     "output_type": "stream",
     "text": [
      "[1, 2, 3, 1, 2, 3]\n",
      "[2 4 6]\n"
     ]
    }
   ],
   "source": [
    "print(L1*2)\n",
    "print(A1*2) #element-wise multiplication"
   ]
  },
  {
   "cell_type": "code",
   "execution_count": 4,
   "metadata": {},
   "outputs": [
    {
     "name": "stdout",
     "output_type": "stream",
     "text": [
      "[1, 4, 9]\n",
      "[1 4 9]\n"
     ]
    }
   ],
   "source": [
    "# Squaring elements in a list\n",
    "L2 = []\n",
    "for e in L1:\n",
    "    L2.append(e*e)\n",
    "    \n",
    "print(L2)\n",
    "\n",
    "print(A1**2)"
   ]
  },
  {
   "cell_type": "code",
   "execution_count": 6,
   "metadata": {},
   "outputs": [
    {
     "name": "stdout",
     "output_type": "stream",
     "text": [
      "[1.         1.41421356 1.73205081]\n",
      "[0.         0.69314718 1.09861229]\n",
      "[ 2.71828183  7.3890561  20.08553692]\n"
     ]
    }
   ],
   "source": [
    "# other functions\n",
    "print(np.sqrt(A1))\n",
    "print(np.log(A1))\n",
    "print(np.exp(A1))"
   ]
  },
  {
   "cell_type": "code",
   "execution_count": 12,
   "metadata": {},
   "outputs": [
    {
     "name": "stdout",
     "output_type": "stream",
     "text": [
      "4\n",
      "4\n",
      "4\n",
      "4\n",
      "4\n",
      "4\n"
     ]
    }
   ],
   "source": [
    "# Dot product\n",
    "a = np.array([1,2])\n",
    "b = np.array([2,1])\n",
    "\n",
    "# compute it manually\n",
    "dot = 0\n",
    "for e,f in zip(a,b):\n",
    "    dot += e*f\n",
    "    \n",
    "print(dot)\n",
    "\n",
    "# using np\n",
    "print(np.sum(a*b))\n",
    "print((a*b).sum()) # alternative way to do the same thing since sum is instance method\n",
    "\n",
    "# using built in numpy function\n",
    "print(np.dot(a, b))\n",
    "print(a.dot(b)) # also use as instance method\n",
    "print(b.dot(a))"
   ]
  },
  {
   "cell_type": "code",
   "execution_count": 14,
   "metadata": {},
   "outputs": [
    {
     "name": "stdout",
     "output_type": "stream",
     "text": [
      "1\n",
      "1\n",
      "1\n"
     ]
    }
   ],
   "source": [
    "# Matrix\n",
    "\n",
    "M = np.array([[1, 2], [3, 4]])\n",
    "L3 = [[1, 2], [3, 4]]\n",
    "\n",
    "print(M[0][0])\n",
    "print(M[0,0])\n",
    "print(L3[0][0])"
   ]
  },
  {
   "cell_type": "code",
   "execution_count": 17,
   "metadata": {},
   "outputs": [
    {
     "name": "stdout",
     "output_type": "stream",
     "text": [
      "[[1 2]\n",
      " [3 4]]\n",
      "[[1 2]\n",
      " [3 4]]\n"
     ]
    }
   ],
   "source": [
    "# Numpy matrix is not usually used and should be converted to array if seen\n",
    "M2 = np.matrix([[1, 2], [3, 4]])\n",
    "print(M2)\n",
    "\n",
    "A_from_M = np.array(M2)\n",
    "print(A_from_M)"
   ]
  },
  {
   "cell_type": "code",
   "execution_count": 18,
   "metadata": {},
   "outputs": [
    {
     "name": "stdout",
     "output_type": "stream",
     "text": [
      "[[1 3]\n",
      " [2 4]]\n"
     ]
    }
   ],
   "source": [
    "# Can do matrix operations, like transpose\n",
    "print(A_from_M.T)"
   ]
  },
  {
   "cell_type": "code",
   "execution_count": 19,
   "metadata": {},
   "outputs": [
    {
     "name": "stdout",
     "output_type": "stream",
     "text": [
      "[0. 0. 0. 0. 0. 0. 0. 0. 0. 0.]\n",
      "[[0. 0. 0. 0. 0. 0. 0. 0. 0. 0.]\n",
      " [0. 0. 0. 0. 0. 0. 0. 0. 0. 0.]\n",
      " [0. 0. 0. 0. 0. 0. 0. 0. 0. 0.]\n",
      " [0. 0. 0. 0. 0. 0. 0. 0. 0. 0.]\n",
      " [0. 0. 0. 0. 0. 0. 0. 0. 0. 0.]\n",
      " [0. 0. 0. 0. 0. 0. 0. 0. 0. 0.]\n",
      " [0. 0. 0. 0. 0. 0. 0. 0. 0. 0.]\n",
      " [0. 0. 0. 0. 0. 0. 0. 0. 0. 0.]\n",
      " [0. 0. 0. 0. 0. 0. 0. 0. 0. 0.]\n",
      " [0. 0. 0. 0. 0. 0. 0. 0. 0. 0.]]\n"
     ]
    }
   ],
   "source": [
    "# Creating arrays\n",
    "Z = np.zeros(10) # pass in the size\n",
    "Z2 = np.zeros((10,10)) # input is a tuple with each dimension\n",
    "print (Z)\n",
    "print (Z2)"
   ]
  },
  {
   "cell_type": "code",
   "execution_count": 21,
   "metadata": {},
   "outputs": [
    {
     "name": "stdout",
     "output_type": "stream",
     "text": [
      "[[1. 1. 1. 1. 1. 1. 1. 1. 1. 1.]\n",
      " [1. 1. 1. 1. 1. 1. 1. 1. 1. 1.]\n",
      " [1. 1. 1. 1. 1. 1. 1. 1. 1. 1.]\n",
      " [1. 1. 1. 1. 1. 1. 1. 1. 1. 1.]\n",
      " [1. 1. 1. 1. 1. 1. 1. 1. 1. 1.]\n",
      " [1. 1. 1. 1. 1. 1. 1. 1. 1. 1.]\n",
      " [1. 1. 1. 1. 1. 1. 1. 1. 1. 1.]\n",
      " [1. 1. 1. 1. 1. 1. 1. 1. 1. 1.]\n",
      " [1. 1. 1. 1. 1. 1. 1. 1. 1. 1.]\n",
      " [1. 1. 1. 1. 1. 1. 1. 1. 1. 1.]]\n"
     ]
    }
   ],
   "source": [
    "O = np.ones((10,10)) # Matrix init with all 1s\n",
    "print(O)"
   ]
  },
  {
   "cell_type": "code",
   "execution_count": 23,
   "metadata": {},
   "outputs": [
    {
     "name": "stdout",
     "output_type": "stream",
     "text": [
      "[[6.79416767e-01 4.67042246e-01 1.24936337e-01 6.86228749e-01\n",
      "  9.14579548e-01 1.66809522e-01 3.79681202e-01 7.55967702e-01\n",
      "  3.06995183e-01 7.80066464e-01]\n",
      " [6.34284583e-01 5.55837542e-01 4.70263696e-01 1.76292859e-01\n",
      "  1.96107341e-01 6.80937072e-01 1.67335917e-01 4.69301640e-01\n",
      "  4.03557398e-01 5.27060824e-01]\n",
      " [3.95378310e-01 9.27255956e-01 2.71888681e-01 7.26874580e-01\n",
      "  4.49404871e-01 9.74338169e-01 8.88033505e-01 6.36596931e-01\n",
      "  5.65616922e-01 6.80273012e-01]\n",
      " [8.01792867e-01 4.70905816e-01 1.35335826e-01 4.49318987e-01\n",
      "  6.88086435e-01 3.96723766e-01 2.57742649e-01 8.33996140e-01\n",
      "  9.12017747e-01 6.80698884e-01]\n",
      " [8.81557330e-01 6.18621419e-01 7.46749802e-01 4.03184883e-01\n",
      "  3.34027299e-01 6.91981673e-01 1.57599134e-01 7.86544675e-01\n",
      "  4.10361027e-01 9.85524341e-01]\n",
      " [6.25286309e-01 4.93910444e-01 2.90699833e-01 6.28763883e-01\n",
      "  2.92323151e-01 5.89983411e-01 2.62801851e-01 5.60378622e-01\n",
      "  8.91483294e-02 6.49816765e-01]\n",
      " [3.93987426e-01 5.20573256e-01 2.74310794e-01 3.90061150e-01\n",
      "  9.77872511e-01 2.24981571e-01 9.60991905e-02 4.49001050e-01\n",
      "  8.01935172e-01 1.04256303e-01]\n",
      " [9.19844832e-02 3.49685555e-01 8.22617108e-01 1.11296444e-01\n",
      "  3.73913922e-01 8.47904215e-01 5.04865154e-01 7.07412971e-01\n",
      "  4.17320676e-01 9.71459435e-01]\n",
      " [6.97860426e-01 6.41092707e-01 6.78310016e-01 2.41657406e-01\n",
      "  2.24684615e-01 1.61212199e-01 3.44857079e-01 8.71108675e-01\n",
      "  5.34316492e-02 9.87546768e-01]\n",
      " [6.02492179e-01 8.56847223e-05 2.62251484e-01 6.74200733e-01\n",
      "  1.04108719e-01 3.18110530e-01 7.55435184e-01 2.87999997e-01\n",
      "  5.55052900e-01 2.99893290e-01]]\n"
     ]
    }
   ],
   "source": [
    "# Random array of size 10 x 10\n",
    "R = np.random.random((10,10)) # Uniformly distributed numbers between 0 and 1\n",
    "print(R)"
   ]
  },
  {
   "cell_type": "code",
   "execution_count": 25,
   "metadata": {},
   "outputs": [
    {
     "name": "stdout",
     "output_type": "stream",
     "text": [
      "[[ 0.51253151 -0.77198166  1.23889975 -1.09080452 -1.1708047  -1.21424981\n",
      "  -2.15225258  1.27054492  1.60658517  2.18660424]\n",
      " [ 0.8303985   0.85095129 -1.03642762  0.44450798 -0.09003369 -2.28001511\n",
      "  -0.66850127 -0.66823624  0.3947622   0.53723301]\n",
      " [ 0.67917996 -0.53311186  0.3074712   0.98853712  1.27557811 -0.55171926\n",
      "  -0.0722191  -0.74526565 -2.27940606  0.27018602]\n",
      " [-1.34621016 -0.11035734  0.56477645  0.19082604 -0.19918867  0.41925834\n",
      "  -1.34803835  1.11607882 -0.57799694 -2.19083721]\n",
      " [-0.00525905 -0.06222165  0.62660338 -1.77780988  0.42687832 -0.3897481\n",
      "  -1.18983552  0.42524036  0.47368724  0.41309274]\n",
      " [ 0.22331804 -0.23266891  0.51565567  0.78540279  0.43985867  0.4504905\n",
      "  -1.43917911 -0.38029146  0.79673451  1.70791458]\n",
      " [ 1.3325782   0.63315975  2.47179107 -0.46780241  0.96330813 -0.58532541\n",
      "  -0.97121877  0.47062355 -0.15314264  1.22998354]\n",
      " [ 0.44620389 -0.40846443 -1.50163687 -0.88521203  0.02835341 -1.20342932\n",
      "  -0.65068648 -0.35092347  1.45735987 -1.06349074]\n",
      " [-0.51514641 -0.41867753  1.39492896  0.09678788  2.48512716  1.27267432\n",
      "  -0.6412535  -0.06251412  0.21499874  1.29646685]\n",
      " [-0.88422223  0.44275377  2.34475847  0.41497534  0.42871056 -2.07306788\n",
      "   1.08388812  2.36636733  0.58386415  1.76517229]]\n"
     ]
    }
   ],
   "source": [
    "# Matrix Filled with random numbers from gaussian distribution, mean 0 and variance 1\n",
    "G = np.random.randn(10,10) # Takes separate numbers instead of tuple for some reason\n",
    "\n",
    "print(G)"
   ]
  },
  {
   "cell_type": "code",
   "execution_count": 26,
   "metadata": {},
   "outputs": [
    {
     "name": "stdout",
     "output_type": "stream",
     "text": [
      "mean:  0.08783737051202026\n",
      "variance:  1.1652547058145515\n"
     ]
    }
   ],
   "source": [
    "# Calculate statistics\n",
    "print(\"mean: \", G.mean())\n",
    "print(\"variance: \", G.var())"
   ]
  },
  {
   "cell_type": "code",
   "execution_count": 27,
   "metadata": {},
   "outputs": [],
   "source": [
    "# Matrix products, inner dimensions must match\n",
    "## C(i,j) = dot product of A(i,:) and B(:,j)\n",
    "## in numpy C = A.dot(B)\n",
    "## In numpy * means element by element multiplication so both have to be the same size\n"
   ]
  },
  {
   "cell_type": "code",
   "execution_count": 28,
   "metadata": {},
   "outputs": [
    {
     "name": "stdout",
     "output_type": "stream",
     "text": [
      "[[-2.   1. ]\n",
      " [ 1.5 -0.5]]\n",
      "[[1.00000000e+00 1.11022302e-16]\n",
      " [0.00000000e+00 1.00000000e+00]]\n",
      "[[1.0000000e+00 4.4408921e-16]\n",
      " [0.0000000e+00 1.0000000e+00]]\n"
     ]
    }
   ],
   "source": [
    "# Other matrix operations\n",
    "\n",
    "A = np.array([[1, 2], [3, 4]])\n",
    "\n",
    "# inverse\n",
    "Ainv = np.linalg.inv(A)\n",
    "print(Ainv)\n",
    "\n",
    "# Check by doing to dot product and see if we get the identity matrix\n",
    "print(A.dot(Ainv))\n",
    "print(Ainv.dot(A))"
   ]
  },
  {
   "cell_type": "code",
   "execution_count": 29,
   "metadata": {},
   "outputs": [
    {
     "name": "stdout",
     "output_type": "stream",
     "text": [
      "-2.0000000000000004\n"
     ]
    }
   ],
   "source": [
    "# Determinant\n",
    "\n",
    "Adet = np.linalg.det(A)\n",
    "print(Adet)"
   ]
  },
  {
   "cell_type": "code",
   "execution_count": 31,
   "metadata": {},
   "outputs": [
    {
     "name": "stdout",
     "output_type": "stream",
     "text": [
      "[1 4]\n",
      "[[1 0]\n",
      " [0 2]]\n"
     ]
    }
   ],
   "source": [
    "# Diagonal of a matrix\n",
    "print(np.diag(A)) # when given matrix, gives diagonal\n",
    "print(np.diag([1, 2])) # when given 1D array, puts them on the diagonal"
   ]
  },
  {
   "cell_type": "code",
   "execution_count": 32,
   "metadata": {},
   "outputs": [
    {
     "name": "stdout",
     "output_type": "stream",
     "text": [
      "[[3 4]\n",
      " [6 8]]\n",
      "11\n",
      "11\n"
     ]
    }
   ],
   "source": [
    "a = np.array([1, 2])\n",
    "b = np.array([3, 4])\n",
    "# Outer product: C(i,j) = A(i)B(j)\n",
    "# Used to calculate covariance of some sample vectors\n",
    "print(np.outer(a, b))\n",
    "\n",
    "# Inner product: C = sum over i {A(i)B(i)}\n",
    "# Same as dot product\n",
    "print(np.inner(a, b))\n",
    "print(np.dot(a, b))"
   ]
  },
  {
   "cell_type": "code",
   "execution_count": 34,
   "metadata": {},
   "outputs": [
    {
     "name": "stdout",
     "output_type": "stream",
     "text": [
      "5\n",
      "5\n"
     ]
    }
   ],
   "source": [
    "# Matrix trace: sum of diagonals\n",
    "print(np.diag(A).sum())\n",
    "print(np.trace(A))"
   ]
  },
  {
   "cell_type": "code",
   "execution_count": 35,
   "metadata": {},
   "outputs": [
    {
     "name": "stdout",
     "output_type": "stream",
     "text": [
      "(100, 100)\n"
     ]
    }
   ],
   "source": [
    "# Eigenvectors, Eigenvalues\n",
    "X = np.random.randn(100,3) # 100 samples and 3 features (pretend dataset)\n",
    "cov = np.cov(X) # covariance\n",
    "print(cov.shape) # 100 x 100 is not right since data has 3 dimensions\n"
   ]
  },
  {
   "cell_type": "code",
   "execution_count": 36,
   "metadata": {},
   "outputs": [
    {
     "name": "stdout",
     "output_type": "stream",
     "text": [
      "[[ 0.95631703  0.02721989  0.11340262]\n",
      " [ 0.02721989  1.01883793 -0.10987438]\n",
      " [ 0.11340262 -0.10987438  1.148769  ]]\n"
     ]
    }
   ],
   "source": [
    "cov = np.cov(X.T) # to calculate covariance of a data matrix, transpose it first\n",
    "print(cov)"
   ]
  },
  {
   "cell_type": "code",
   "execution_count": 37,
   "metadata": {},
   "outputs": [
    {
     "name": "stdout",
     "output_type": "stream",
     "text": [
      "[2.22044605e-16 5.00000000e-01]\n",
      "[0.  0.5]\n"
     ]
    }
   ],
   "source": [
    "# Solving a linear system, D equations and D unknowns\n",
    "# Problem Ax = b, A is DxD matrix, x values to solve for, b is vector of numbers\n",
    "# Solution = A^-1 Ax = bA^-1 (multiply inverse both sides)\n",
    "A = ([1,2],[3,4])\n",
    "b = np.array([1,2])\n",
    "\n",
    "x = np.linalg.inv(A).dot(b)\n",
    "x2 = np.linalg.solve(A, b)\n",
    "print(x)\n",
    "print(x2)"
   ]
  },
  {
   "cell_type": "code",
   "execution_count": null,
   "metadata": {},
   "outputs": [],
   "source": []
  }
 ],
 "metadata": {
  "kernelspec": {
   "display_name": "Python 3",
   "language": "python",
   "name": "python3"
  },
  "language_info": {
   "codemirror_mode": {
    "name": "ipython",
    "version": 3
   },
   "file_extension": ".py",
   "mimetype": "text/x-python",
   "name": "python",
   "nbconvert_exporter": "python",
   "pygments_lexer": "ipython3",
   "version": "3.6.4"
  }
 },
 "nbformat": 4,
 "nbformat_minor": 2
}
